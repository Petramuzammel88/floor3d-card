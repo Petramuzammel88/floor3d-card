{
  "nbformat": 4,
  "nbformat_minor": 0,
  "metadata": {
    "colab": {
      "name": "torrent-to-gdrive_nkm.ipynb",
      "provenance": [],
      "include_colab_link": true
    },
    "kernelspec": {
      "name": "python3",
      "display_name": "Python 3"
    },
    "language_info": {
      "name": "python"
    },
    "accelerator": "GPU"
  },
  "cells": [
    {
      "cell_type": "markdown",
      "metadata": {
        "id": "view-in-github",
        "colab_type": "text"
      },
      "source": [
        "<a href=\"https://colab.research.google.com/github/Petramuzammel88/floor3d-card/blob/master/torrent_to_gdrive_nkm.ipynb\" target=\"_parent\"><img src=\"https://colab.research.google.com/assets/colab-badge.svg\" alt=\"Open In Colab\"/></a>"
      ]
    },
    {
      "cell_type": "markdown",
      "metadata": {
        "id": "VXA5SdiegiGm"
      },
      "source": [
        "# Torrent To Google Drive Downloader By Navaneeth K M"
      ]
    },
    {
      "cell_type": "markdown",
      "metadata": {
        "id": "AOmxJNe1gmjp"
      },
      "source": [
        "**Important Note:** To get more disk space:\n",
        "> Go to Runtime -> Change Runtime and give GPU as the Hardware Accelerator.  You will get around 384GB to download any torrent you want.\n",
        "\n",
        "**YOU WILL BE 100% RESPONSIBLE FOR ANY LEGAL ISSUES CAUSED BY YOU. I JUST MADE THIS FOR EDUCATIONAL PURPOSE!**"
      ]
    },
    {
      "cell_type": "markdown",
      "metadata": {
        "id": "U6Fhllflgv9l"
      },
      "source": [
        "### Install libtorrent and Initialize Session"
      ]
    },
    {
      "cell_type": "code",
      "metadata": {
        "id": "lAdo_AUzgutq",
        "outputId": "192ace5e-2b77-4687-923d-7fad4bbbe85d",
        "colab": {
          "base_uri": "https://localhost:8080/"
        }
      },
      "source": [
        "!python -m pip install --upgrade pip setuptools wheel\n",
        "!python -m pip install folium==0.2.1\n",
        "!python -m pip install lbry-libtorrent\n",
        "!apt install python3-libtorrent\n",
        "\n",
        "import libtorrent as lt\n",
        "\n",
        "ses = lt.session()\n",
        "ses.listen_on(6881, 6891)\n",
        "downloads = []"
      ],
      "execution_count": 1,
      "outputs": [
        {
          "output_type": "stream",
          "text": [
            "Requirement already satisfied: pip in /usr/local/lib/python3.7/dist-packages (21.1.3)\n",
            "Collecting pip\n",
            "  Downloading pip-21.2.1-py3-none-any.whl (1.6 MB)\n",
            "\u001b[K     |████████████████████████████████| 1.6 MB 37.1 MB/s \n",
            "\u001b[?25hRequirement already satisfied: setuptools in /usr/local/lib/python3.7/dist-packages (57.2.0)\n",
            "Collecting setuptools\n",
            "  Downloading setuptools-57.4.0-py3-none-any.whl (819 kB)\n",
            "\u001b[K     |████████████████████████████████| 819 kB 42.0 MB/s \n",
            "\u001b[?25hRequirement already satisfied: wheel in /usr/local/lib/python3.7/dist-packages (0.36.2)\n",
            "Installing collected packages: setuptools, pip\n",
            "  Attempting uninstall: setuptools\n",
            "    Found existing installation: setuptools 57.2.0\n",
            "    Uninstalling setuptools-57.2.0:\n",
            "      Successfully uninstalled setuptools-57.2.0\n",
            "  Attempting uninstall: pip\n",
            "    Found existing installation: pip 21.1.3\n",
            "    Uninstalling pip-21.1.3:\n",
            "      Successfully uninstalled pip-21.1.3\n",
            "\u001b[31mERROR: pip's dependency resolver does not currently take into account all the packages that are installed. This behaviour is the source of the following dependency conflicts.\n",
            "datascience 0.10.6 requires folium==0.2.1, but you have folium 0.8.3 which is incompatible.\u001b[0m\n",
            "Successfully installed pip-21.2.1 setuptools-57.4.0\n",
            "\u001b[33mWARNING: Value for scheme.platlib does not match. Please report this to <https://github.com/pypa/pip/issues/10151>\n",
            "distutils: /usr/local/lib/python3.7/dist-packages\n",
            "sysconfig: /usr/lib/python3.7/site-packages\u001b[0m\n",
            "\u001b[33mWARNING: Value for scheme.purelib does not match. Please report this to <https://github.com/pypa/pip/issues/10151>\n",
            "distutils: /usr/local/lib/python3.7/dist-packages\n",
            "sysconfig: /usr/lib/python3.7/site-packages\u001b[0m\n",
            "\u001b[33mWARNING: Value for scheme.headers does not match. Please report this to <https://github.com/pypa/pip/issues/10151>\n",
            "distutils: /usr/local/include/python3.7/UNKNOWN\n",
            "sysconfig: /usr/include/python3.7m/UNKNOWN\u001b[0m\n",
            "\u001b[33mWARNING: Value for scheme.scripts does not match. Please report this to <https://github.com/pypa/pip/issues/10151>\n",
            "distutils: /usr/local/bin\n",
            "sysconfig: /usr/bin\u001b[0m\n",
            "\u001b[33mWARNING: Value for scheme.data does not match. Please report this to <https://github.com/pypa/pip/issues/10151>\n",
            "distutils: /usr/local\n",
            "sysconfig: /usr\u001b[0m\n",
            "\u001b[33mWARNING: Additional context:\n",
            "user = False\n",
            "home = None\n",
            "root = None\n",
            "prefix = None\u001b[0m\n",
            "Collecting folium==0.2.1\n",
            "  Downloading folium-0.2.1.tar.gz (69 kB)\n",
            "\u001b[K     |████████████████████████████████| 69 kB 6.8 MB/s \n",
            "\u001b[?25hRequirement already satisfied: Jinja2 in /usr/local/lib/python3.7/dist-packages (from folium==0.2.1) (2.11.3)\n",
            "Requirement already satisfied: MarkupSafe>=0.23 in /usr/local/lib/python3.7/dist-packages (from Jinja2->folium==0.2.1) (2.0.1)\n",
            "Building wheels for collected packages: folium\n",
            "  Building wheel for folium (setup.py) ... \u001b[?25l\u001b[?25hdone\n",
            "  Created wheel for folium: filename=folium-0.2.1-py3-none-any.whl size=79808 sha256=690e699b3b8d343393f1fd6a7def13a854a63543963b55815560c02521947f24\n",
            "  Stored in directory: /root/.cache/pip/wheels/9a/f0/3a/3f79a6914ff5affaf50cabad60c9f4d565283283c97f0bdccf\n",
            "Successfully built folium\n",
            "Installing collected packages: folium\n",
            "  Attempting uninstall: folium\n",
            "    Found existing installation: folium 0.8.3\n",
            "    Uninstalling folium-0.8.3:\n",
            "      Successfully uninstalled folium-0.8.3\n",
            "\u001b[33m  WARNING: Value for scheme.headers does not match. Please report this to <https://github.com/pypa/pip/issues/10151>\n",
            "  distutils: /usr/local/include/python3.7/folium\n",
            "  sysconfig: /usr/include/python3.7m/folium\u001b[0m\n",
            "Successfully installed folium-0.2.1\n",
            "\u001b[33mWARNING: Running pip as the 'root' user can result in broken permissions and conflicting behaviour with the system package manager. It is recommended to use a virtual environment instead: https://pip.pypa.io/warnings/venv\u001b[0m\n",
            "\u001b[33mWARNING: Value for scheme.platlib does not match. Please report this to <https://github.com/pypa/pip/issues/10151>\n",
            "distutils: /usr/local/lib/python3.7/dist-packages\n",
            "sysconfig: /usr/lib/python3.7/site-packages\u001b[0m\n",
            "\u001b[33mWARNING: Value for scheme.purelib does not match. Please report this to <https://github.com/pypa/pip/issues/10151>\n",
            "distutils: /usr/local/lib/python3.7/dist-packages\n",
            "sysconfig: /usr/lib/python3.7/site-packages\u001b[0m\n",
            "\u001b[33mWARNING: Value for scheme.headers does not match. Please report this to <https://github.com/pypa/pip/issues/10151>\n",
            "distutils: /usr/local/include/python3.7/UNKNOWN\n",
            "sysconfig: /usr/include/python3.7m/UNKNOWN\u001b[0m\n",
            "\u001b[33mWARNING: Value for scheme.scripts does not match. Please report this to <https://github.com/pypa/pip/issues/10151>\n",
            "distutils: /usr/local/bin\n",
            "sysconfig: /usr/bin\u001b[0m\n",
            "\u001b[33mWARNING: Value for scheme.data does not match. Please report this to <https://github.com/pypa/pip/issues/10151>\n",
            "distutils: /usr/local\n",
            "sysconfig: /usr\u001b[0m\n",
            "\u001b[33mWARNING: Additional context:\n",
            "user = False\n",
            "home = None\n",
            "root = None\n",
            "prefix = None\u001b[0m\n",
            "Collecting lbry-libtorrent\n",
            "  Downloading lbry_libtorrent-1.2.4-py3-none-any.whl (2.4 MB)\n",
            "\u001b[K     |████████████████████████████████| 2.4 MB 34.4 MB/s \n",
            "\u001b[?25hInstalling collected packages: lbry-libtorrent\n",
            "\u001b[33m  WARNING: Value for scheme.headers does not match. Please report this to <https://github.com/pypa/pip/issues/10151>\n",
            "  distutils: /usr/local/include/python3.7/lbry-libtorrent\n",
            "  sysconfig: /usr/include/python3.7m/lbry-libtorrent\u001b[0m\n",
            "Successfully installed lbry-libtorrent-1.2.4\n",
            "\u001b[33mWARNING: Running pip as the 'root' user can result in broken permissions and conflicting behaviour with the system package manager. It is recommended to use a virtual environment instead: https://pip.pypa.io/warnings/venv\u001b[0m\n",
            "Reading package lists... Done\n",
            "Building dependency tree       \n",
            "Reading state information... Done\n",
            "The following additional packages will be installed:\n",
            "  libtorrent-rasterbar9\n",
            "Suggested packages:\n",
            "  libtorrent-rasterbar-dbg\n",
            "The following NEW packages will be installed:\n",
            "  libtorrent-rasterbar9 python3-libtorrent\n",
            "0 upgraded, 2 newly installed, 0 to remove and 40 not upgraded.\n",
            "Need to get 1,569 kB of archives.\n",
            "After this operation, 5,718 kB of additional disk space will be used.\n",
            "Get:1 http://archive.ubuntu.com/ubuntu bionic/universe amd64 libtorrent-rasterbar9 amd64 1.1.5-1build1 [1,258 kB]\n",
            "Get:2 http://archive.ubuntu.com/ubuntu bionic/universe amd64 python3-libtorrent amd64 1.1.5-1build1 [310 kB]\n",
            "Fetched 1,569 kB in 1s (2,068 kB/s)\n",
            "Selecting previously unselected package libtorrent-rasterbar9.\n",
            "(Reading database ... 160837 files and directories currently installed.)\n",
            "Preparing to unpack .../libtorrent-rasterbar9_1.1.5-1build1_amd64.deb ...\n",
            "Unpacking libtorrent-rasterbar9 (1.1.5-1build1) ...\n",
            "Selecting previously unselected package python3-libtorrent.\n",
            "Preparing to unpack .../python3-libtorrent_1.1.5-1build1_amd64.deb ...\n",
            "Unpacking python3-libtorrent (1.1.5-1build1) ...\n",
            "Setting up libtorrent-rasterbar9 (1.1.5-1build1) ...\n",
            "Setting up python3-libtorrent (1.1.5-1build1) ...\n",
            "Processing triggers for libc-bin (2.27-3ubuntu1.2) ...\n",
            "/sbin/ldconfig.real: /usr/local/lib/python3.7/dist-packages/ideep4py/lib/libmkldnn.so.0 is not a symbolic link\n",
            "\n"
          ],
          "name": "stdout"
        }
      ]
    },
    {
      "cell_type": "markdown",
      "metadata": {
        "id": "4upT7iuZg10e"
      },
      "source": [
        "### Mount Google Drive\n",
        "To stream files we need to mount Google Drive."
      ]
    },
    {
      "cell_type": "code",
      "metadata": {
        "id": "oN0cRyXhg2dr",
        "outputId": "582dff0b-7b0a-4b95-b6a9-0b38714ce063",
        "colab": {
          "base_uri": "https://localhost:8080/"
        }
      },
      "source": [
        "from google.colab import drive\n",
        "\n",
        "drive.mount(\"/content/drive\")"
      ],
      "execution_count": 2,
      "outputs": [
        {
          "output_type": "stream",
          "text": [
            "Mounted at /content/drive\n"
          ],
          "name": "stdout"
        }
      ]
    },
    {
      "cell_type": "markdown",
      "metadata": {
        "id": "08gezPTQg4MO"
      },
      "source": [
        "### Add From Torrent File\n",
        "You can run this cell to add more files as many times as you want"
      ]
    },
    {
      "cell_type": "code",
      "metadata": {
        "id": "6k-80O4jg6iy"
      },
      "source": [
        "from google.colab import files\n",
        "\n",
        "source = files.upload()\n",
        "params = {\n",
        "    \"save_path\": \"/content/drive/My Drive/Torrent\",\n",
        "    \"ti\": lt.torrent_info(list(source.keys())[0]),\n",
        "}\n",
        "downloads.append(ses.add_torrent(params))"
      ],
      "execution_count": null,
      "outputs": []
    },
    {
      "cell_type": "markdown",
      "metadata": {
        "id": "xMykVS18g751"
      },
      "source": [
        "### Add From Magnet Link\n",
        "You can run this cell to add more files as many times as you want!"
      ]
    },
    {
      "cell_type": "code",
      "metadata": {
        "id": "6bhiHitUg-9V"
      },
      "source": [
        "params = {\"save_path\": \"/content/drive/My Drive/Torrent\"}\n",
        "\n",
        "while True:\n",
        "    magnet_link = input(\"Enter Magnet Link Or Type Exit: \")\n",
        "    if magnet_link.lower() == \"exit\":\n",
        "        break\n",
        "    downloads.append(\n",
        "        lt.add_magnet_uri(ses, magnet_link, params)\n",
        "    )"
      ],
      "execution_count": null,
      "outputs": []
    },
    {
      "cell_type": "markdown",
      "metadata": {
        "id": "mQPnPGPhhAqV"
      },
      "source": [
        "## Start Download"
      ]
    },
    {
      "cell_type": "code",
      "metadata": {
        "id": "mh5mTlBihGt-"
      },
      "source": [
        "import time\n",
        "from IPython.display import display\n",
        "import ipywidgets as widgets\n",
        "\n",
        "state_str = [\n",
        "    \"queued\",\n",
        "    \"checking\",\n",
        "    \"downloading metadata\",\n",
        "    \"downloading\",\n",
        "    \"finished\",\n",
        "    \"seeding\",\n",
        "    \"allocating\",\n",
        "    \"checking fastresume\",\n",
        "]\n",
        "\n",
        "layout = widgets.Layout(width=\"auto\")\n",
        "style = {\"description_width\": \"initial\"}\n",
        "download_bars = [\n",
        "    widgets.FloatSlider(\n",
        "        step=0.01, disabled=True, layout=layout, style=style\n",
        "    )\n",
        "    for _ in downloads\n",
        "]\n",
        "display(*download_bars)\n",
        "\n",
        "while downloads:\n",
        "    next_shift = 0\n",
        "    for index, download in enumerate(downloads[:]):\n",
        "        bar = download_bars[index + next_shift]\n",
        "        if not download.is_seed():\n",
        "            s = download.status()\n",
        "\n",
        "            bar.description = \" \".join(\n",
        "                [\n",
        "                    download.name(),\n",
        "                    str(s.download_rate / 1000),\n",
        "                    \"kB/s\",\n",
        "                    state_str[s.state],\n",
        "                ]\n",
        "            )\n",
        "            bar.value = s.progress * 100\n",
        "        else:\n",
        "            next_shift -= 1\n",
        "            ses.remove_torrent(download)\n",
        "            downloads.remove(download)\n",
        "            bar.close()\n",
        "            download_bars.remove(bar)\n",
        "            print(download.name(), \"complete\")\n",
        "    time.sleep(1)"
      ],
      "execution_count": null,
      "outputs": []
    }
  ]
}